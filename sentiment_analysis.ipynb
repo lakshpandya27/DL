{
  "nbformat": 4,
  "nbformat_minor": 0,
  "metadata": {
    "colab": {
      "private_outputs": true,
      "provenance": [],
      "authorship_tag": "ABX9TyOGrHR9ZOmodBUcrNRpuSFy",
      "include_colab_link": true
    },
    "kernelspec": {
      "name": "python3",
      "display_name": "Python 3"
    },
    "language_info": {
      "name": "python"
    }
  },
  "cells": [
    {
      "cell_type": "markdown",
      "metadata": {
        "id": "view-in-github",
        "colab_type": "text"
      },
      "source": [
        "<a href=\"https://colab.research.google.com/github/lakshpandya27/Deep-Learning/blob/main/sentiment_analysis.ipynb\" target=\"_parent\"><img src=\"https://colab.research.google.com/assets/colab-badge.svg\" alt=\"Open In Colab\"/></a>"
      ]
    },
    {
      "cell_type": "code",
      "execution_count": null,
      "metadata": {
        "id": "urLZydhBX_Qw"
      },
      "outputs": [],
      "source": [
        "import re\n",
        "import pandas as pd\n",
        "import numpy as np\n",
        "import matplotlib.pyplot as plt\n",
        "import seaborn as sns\n",
        "import string\n",
        "import nltk\n",
        "import warnings\n",
        "warnings.filterwarnings(\"ignore\", category=DeprecationWarning)"
      ]
    },
    {
      "cell_type": "code",
      "source": [
        "%matplotlib inline\n",
        "train = pd.read_csv('https://raw.githubusercontent.com/dD2405/Twitter_Sentiment_Analysis/master/train.csv')"
      ],
      "metadata": {
        "id": "wIZpmlGrYIfc"
      },
      "execution_count": null,
      "outputs": []
    },
    {
      "cell_type": "code",
      "source": [
        "train_original=train.copy()"
      ],
      "metadata": {
        "id": "0mHnz4ZphsbW"
      },
      "execution_count": null,
      "outputs": []
    },
    {
      "cell_type": "code",
      "source": [
        "print(train_original)"
      ],
      "metadata": {
        "id": "tcPHRypbjLcW"
      },
      "execution_count": null,
      "outputs": []
    },
    {
      "cell_type": "code",
      "source": [
        "test = pd.read_csv('https://raw.githubusercontent.com/dD2405/Twitter_Sentiment_Analysis/master/test.csv')"
      ],
      "metadata": {
        "id": "bkt_GlRCjRbG"
      },
      "execution_count": null,
      "outputs": []
    },
    {
      "cell_type": "code",
      "source": [
        "test_original=test.copy()"
      ],
      "metadata": {
        "id": "sO0CCPTqj2yJ"
      },
      "execution_count": null,
      "outputs": []
    },
    {
      "cell_type": "code",
      "source": [
        "print(test_original)"
      ],
      "metadata": {
        "id": "T-L5lR0Fj6hL"
      },
      "execution_count": null,
      "outputs": []
    },
    {
      "cell_type": "code",
      "source": [
        "combine = pd.concat([train, test], ignore_index=True, sort=True)"
      ],
      "metadata": {
        "id": "VFh-cgwCj_ID"
      },
      "execution_count": null,
      "outputs": []
    },
    {
      "cell_type": "code",
      "source": [
        "print(combine)"
      ],
      "metadata": {
        "id": "yKbQAqY1kMbt"
      },
      "execution_count": null,
      "outputs": []
    },
    {
      "cell_type": "code",
      "source": [
        "def clean_text(text):\n",
        "    text = re.sub(r'@[A-Za-z0-9]+', '', text)  # Removing @mentions\n",
        "    text = re.sub(r'#', '', text)  # Removing '#' symbol\n",
        "    text = re.sub(r'RT[\\s]+', '', text)  # Removing retweets 'RT'\n",
        "    text = re.sub(r'https?:\\/\\/\\S+', '', text)  # Removing hyperlinks\n",
        "    return text\n"
      ],
      "metadata": {
        "id": "jWaXXu3mm5Bm"
      },
      "execution_count": null,
      "outputs": []
    },
    {
      "cell_type": "code",
      "source": [
        "combine.info()\n",
        "combine.columns"
      ],
      "metadata": {
        "id": "rZVRNo7jm6iN"
      },
      "execution_count": null,
      "outputs": []
    },
    {
      "cell_type": "code",
      "source": [
        "\n",
        "sentiment_counts = combine['label'].value_counts()\n",
        "\n",
        "plt.figure(figsize=(6, 6))\n",
        "sns.barplot(x=sentiment_counts.index, y=sentiment_counts.values, palette=\"Set2\")\n",
        "plt.title('Sentiment Distribution')\n",
        "plt.xlabel('Sentiment')\n",
        "plt.ylabel('Count')\n",
        "plt.show()\n"
      ],
      "metadata": {
        "id": "BkyN5aL8oi5D"
      },
      "execution_count": null,
      "outputs": []
    },
    {
      "cell_type": "code",
      "source": [
        "\n",
        "plt.figure(figsize=(6, 6))\n",
        "plt.pie(sentiment_counts, labels=['Negative', 'Positive'], autopct='%1.1f%%', colors=['#FF9999', '#66B2FF'])\n",
        "plt.title('Sentiment Distribution')\n",
        "plt.show()\n"
      ],
      "metadata": {
        "id": "YBbpMiZcorKT"
      },
      "execution_count": null,
      "outputs": []
    }
  ]
}